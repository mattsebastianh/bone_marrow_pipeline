{
 "cells": [
  {
   "cell_type": "markdown",
   "id": "2bc66ea6",
   "metadata": {},
   "source": [
    "# Bone Marrow Transplantation Survival Prediction\n",
    "\n",
    "**Author:** Sebastian Hsiao  \n",
    "**Date:** October 2025  \n",
    "**Dataset:** Bone Marrow Transplantation (UCI Machine Learning Repository)\n",
    "\n",
    "## Objective\n",
    "\n",
    "Build an end-to-end scikit-learn pipeline to predict patient survival after bone marrow transplantation. The notebook demonstrates:\n",
    "\n",
    "- Loading and exploring ARFF data\n",
    "- Data cleaning and type conversion\n",
    "- Exploratory Data Analysis (EDA)\n",
    "- Column-specific preprocessing (categorical vs numeric)\n",
    "- Dimensionality reduction with PCA\n",
    "- Model training and evaluation\n",
    "- Hyperparameter tuning with GridSearchCV\n",
    "- Results interpretation and next steps"
   ]
  },
  {
   "cell_type": "markdown",
   "id": "ceb50598",
   "metadata": {},
   "source": [
    "---\n",
    "## 1. Setup and Imports\n",
    "\n",
    "Import all necessary libraries for data manipulation, preprocessing, modeling, and visualization."
   ]
  },
  {
   "cell_type": "code",
   "execution_count": 55,
   "id": "383c6600",
   "metadata": {},
   "outputs": [
    {
     "name": "stdout",
     "output_type": "stream",
     "text": [
      "✓ All imports successful\n"
     ]
    }
   ],
   "source": [
    "# Data manipulation\n",
    "import numpy as np\n",
    "import pandas as pd\n",
    "\n",
    "# Scikit-learn: preprocessing and pipelines\n",
    "from sklearn.pipeline import Pipeline\n",
    "from sklearn.model_selection import train_test_split, GridSearchCV\n",
    "from sklearn.linear_model import LogisticRegression\n",
    "from sklearn.ensemble import RandomForestClassifier\n",
    "from sklearn.preprocessing import StandardScaler, OneHotEncoder\n",
    "from sklearn.compose import ColumnTransformer\n",
    "from sklearn.impute import SimpleImputer\n",
    "from sklearn.decomposition import PCA\n",
    "\n",
    "# Evaluation\n",
    "from sklearn.metrics import (\n",
    "    confusion_matrix, \n",
    "    classification_report, \n",
    "    accuracy_score,\n",
    "    roc_auc_score,\n",
    "    roc_curve\n",
    ")\n",
    "\n",
    "# Data loading\n",
    "from scipy.io import arff\n",
    "\n",
    "# Visualization\n",
    "import matplotlib.pyplot as plt\n",
    "import seaborn as sns\n",
    "\n",
    "# Config\n",
    "sns.set_style('whitegrid')\n",
    "plt.rcParams['figure.figsize'] = (10, 6)\n",
    "np.random.seed(42)\n",
    "\n",
    "print(\"✓ All imports successful\")"
   ]
  },
  {
   "cell_type": "markdown",
   "id": "e65b6824",
   "metadata": {},
   "source": [
    "---\n",
    "## 2. Load and Inspect Data\n",
    "\n",
    "Load the ARFF dataset and perform initial inspection."
   ]
  },
  {
   "cell_type": "code",
   "execution_count": null,
   "id": "54217c77",
   "metadata": {},
   "outputs": [
    {
     "name": "stdout",
     "output_type": "stream",
     "text": [
      "Dataset shape: (187, 37)\n",
      "\n",
      "Columns: ['Recipientgender', 'Stemcellsource', 'Donorage', 'Donorage35', 'IIIV', 'Gendermatch', 'DonorABO', 'RecipientABO', 'RecipientRh', 'ABOmatch', 'CMVstatus', 'DonorCMV', 'RecipientCMV', 'Disease', 'Riskgroup', 'Txpostrelapse', 'Diseasegroup', 'HLAmatch', 'HLAmismatch', 'Antigen', 'Alel', 'HLAgrI', 'Recipientage', 'Recipientage10', 'Recipientageint', 'Relapse', 'aGvHDIIIIV', 'extcGvHD', 'CD34kgx10d6', 'CD3dCD34', 'CD3dkgx10d8', 'Rbodymass', 'ANCrecovery', 'PLTrecovery', 'time_to_aGvHD_III_IV', 'survival_time', 'survival_status']\n"
     ]
    },
    {
     "data": {
      "application/vnd.microsoft.datawrangler.viewer.v0+json": {
       "columns": [
        {
         "name": "index",
         "rawType": "int64",
         "type": "integer"
        },
        {
         "name": "Recipientgender",
         "rawType": "object",
         "type": "unknown"
        },
        {
         "name": "Stemcellsource",
         "rawType": "object",
         "type": "unknown"
        },
        {
         "name": "Donorage",
         "rawType": "float64",
         "type": "float"
        },
        {
         "name": "Donorage35",
         "rawType": "object",
         "type": "unknown"
        },
        {
         "name": "IIIV",
         "rawType": "object",
         "type": "unknown"
        },
        {
         "name": "Gendermatch",
         "rawType": "object",
         "type": "unknown"
        },
        {
         "name": "DonorABO",
         "rawType": "object",
         "type": "unknown"
        },
        {
         "name": "RecipientABO",
         "rawType": "object",
         "type": "unknown"
        },
        {
         "name": "RecipientRh",
         "rawType": "object",
         "type": "unknown"
        },
        {
         "name": "ABOmatch",
         "rawType": "object",
         "type": "unknown"
        },
        {
         "name": "CMVstatus",
         "rawType": "object",
         "type": "unknown"
        },
        {
         "name": "DonorCMV",
         "rawType": "object",
         "type": "unknown"
        },
        {
         "name": "RecipientCMV",
         "rawType": "object",
         "type": "unknown"
        },
        {
         "name": "Disease",
         "rawType": "object",
         "type": "unknown"
        },
        {
         "name": "Riskgroup",
         "rawType": "object",
         "type": "unknown"
        },
        {
         "name": "Txpostrelapse",
         "rawType": "object",
         "type": "unknown"
        },
        {
         "name": "Diseasegroup",
         "rawType": "object",
         "type": "unknown"
        },
        {
         "name": "HLAmatch",
         "rawType": "object",
         "type": "unknown"
        },
        {
         "name": "HLAmismatch",
         "rawType": "object",
         "type": "unknown"
        },
        {
         "name": "Antigen",
         "rawType": "object",
         "type": "unknown"
        },
        {
         "name": "Alel",
         "rawType": "object",
         "type": "unknown"
        },
        {
         "name": "HLAgrI",
         "rawType": "object",
         "type": "unknown"
        },
        {
         "name": "Recipientage",
         "rawType": "float64",
         "type": "float"
        },
        {
         "name": "Recipientage10",
         "rawType": "object",
         "type": "unknown"
        },
        {
         "name": "Recipientageint",
         "rawType": "object",
         "type": "unknown"
        },
        {
         "name": "Relapse",
         "rawType": "object",
         "type": "unknown"
        },
        {
         "name": "aGvHDIIIIV",
         "rawType": "object",
         "type": "unknown"
        },
        {
         "name": "extcGvHD",
         "rawType": "object",
         "type": "unknown"
        },
        {
         "name": "CD34kgx10d6",
         "rawType": "float64",
         "type": "float"
        },
        {
         "name": "CD3dCD34",
         "rawType": "float64",
         "type": "float"
        },
        {
         "name": "CD3dkgx10d8",
         "rawType": "float64",
         "type": "float"
        },
        {
         "name": "Rbodymass",
         "rawType": "float64",
         "type": "float"
        },
        {
         "name": "ANCrecovery",
         "rawType": "float64",
         "type": "float"
        },
        {
         "name": "PLTrecovery",
         "rawType": "float64",
         "type": "float"
        },
        {
         "name": "time_to_aGvHD_III_IV",
         "rawType": "float64",
         "type": "float"
        },
        {
         "name": "survival_time",
         "rawType": "float64",
         "type": "float"
        },
        {
         "name": "survival_status",
         "rawType": "float64",
         "type": "float"
        }
       ],
       "ref": "d9caab7b-56bc-4601-b468-4b3da90c7c5f",
       "rows": [
        [
         "0",
         "b'1'",
         "b'1'",
         "22.830137",
         "b'0'",
         "b'1'",
         "b'0'",
         "b'1'",
         "b'1'",
         "b'1'",
         "b'0'",
         "b'3'",
         "b'1'",
         "b'1'",
         "b'ALL'",
         "b'1'",
         "b'0'",
         "b'1'",
         "b'0'",
         "b'0'",
         "b'-1'",
         "b'-1'",
         "b'0'",
         "9.6",
         "b'0'",
         "b'1'",
         "b'0'",
         "b'0'",
         "b'1'",
         "7.2",
         "1.33876",
         "5.38",
         "35.0",
         "19.0",
         "51.0",
         "32.0",
         "999.0",
         "0.0"
        ],
        [
         "1",
         "b'1'",
         "b'0'",
         "23.342466",
         "b'0'",
         "b'1'",
         "b'0'",
         "b'-1'",
         "b'-1'",
         "b'1'",
         "b'0'",
         "b'0'",
         "b'0'",
         "b'0'",
         "b'ALL'",
         "b'0'",
         "b'0'",
         "b'1'",
         "b'0'",
         "b'0'",
         "b'-1'",
         "b'-1'",
         "b'0'",
         "4.0",
         "b'0'",
         "b'0'",
         "b'1'",
         "b'1'",
         "b'1'",
         "4.5",
         "11.078295",
         "0.41",
         "20.6",
         "16.0",
         "37.0",
         "1000000.0",
         "163.0",
         "1.0"
        ],
        [
         "2",
         "b'1'",
         "b'0'",
         "26.394521",
         "b'0'",
         "b'1'",
         "b'0'",
         "b'-1'",
         "b'-1'",
         "b'1'",
         "b'0'",
         "b'2'",
         "b'0'",
         "b'1'",
         "b'ALL'",
         "b'0'",
         "b'0'",
         "b'1'",
         "b'0'",
         "b'0'",
         "b'-1'",
         "b'-1'",
         "b'0'",
         "6.6",
         "b'0'",
         "b'1'",
         "b'1'",
         "b'1'",
         "b'1'",
         "7.94",
         "19.01323",
         "0.42",
         "23.4",
         "23.0",
         "20.0",
         "1000000.0",
         "435.0",
         "1.0"
        ],
        [
         "3",
         "b'0'",
         "b'0'",
         "39.684932",
         "b'1'",
         "b'1'",
         "b'0'",
         "b'1'",
         "b'2'",
         "b'1'",
         "b'1'",
         "b'1'",
         "b'1'",
         "b'0'",
         "b'AML'",
         "b'0'",
         "b'0'",
         "b'1'",
         "b'0'",
         "b'0'",
         "b'-1'",
         "b'-1'",
         "b'0'",
         "18.1",
         "b'1'",
         "b'2'",
         "b'0'",
         "b'0'",
         "b'?'",
         "4.25",
         "29.481647",
         "0.14",
         "50.0",
         "23.0",
         "29.0",
         "19.0",
         "53.0",
         "1.0"
        ],
        [
         "4",
         "b'0'",
         "b'1'",
         "33.358904",
         "b'0'",
         "b'0'",
         "b'0'",
         "b'1'",
         "b'2'",
         "b'0'",
         "b'1'",
         "b'0'",
         "b'0'",
         "b'1'",
         "b'chronic'",
         "b'1'",
         "b'0'",
         "b'1'",
         "b'1'",
         "b'0'",
         "b'1'",
         "b'0'",
         "b'1'",
         "1.3",
         "b'0'",
         "b'0'",
         "b'0'",
         "b'1'",
         "b'1'",
         "51.85",
         "3.972255",
         "13.05",
         "9.0",
         "14.0",
         "14.0",
         "1000000.0",
         "2043.0",
         "0.0"
        ]
       ],
       "shape": {
        "columns": 37,
        "rows": 5
       }
      },
      "text/html": [
       "<div>\n",
       "<style scoped>\n",
       "    .dataframe tbody tr th:only-of-type {\n",
       "        vertical-align: middle;\n",
       "    }\n",
       "\n",
       "    .dataframe tbody tr th {\n",
       "        vertical-align: top;\n",
       "    }\n",
       "\n",
       "    .dataframe thead th {\n",
       "        text-align: right;\n",
       "    }\n",
       "</style>\n",
       "<table border=\"1\" class=\"dataframe\">\n",
       "  <thead>\n",
       "    <tr style=\"text-align: right;\">\n",
       "      <th></th>\n",
       "      <th>Recipientgender</th>\n",
       "      <th>Stemcellsource</th>\n",
       "      <th>Donorage</th>\n",
       "      <th>Donorage35</th>\n",
       "      <th>IIIV</th>\n",
       "      <th>Gendermatch</th>\n",
       "      <th>DonorABO</th>\n",
       "      <th>RecipientABO</th>\n",
       "      <th>RecipientRh</th>\n",
       "      <th>ABOmatch</th>\n",
       "      <th>...</th>\n",
       "      <th>extcGvHD</th>\n",
       "      <th>CD34kgx10d6</th>\n",
       "      <th>CD3dCD34</th>\n",
       "      <th>CD3dkgx10d8</th>\n",
       "      <th>Rbodymass</th>\n",
       "      <th>ANCrecovery</th>\n",
       "      <th>PLTrecovery</th>\n",
       "      <th>time_to_aGvHD_III_IV</th>\n",
       "      <th>survival_time</th>\n",
       "      <th>survival_status</th>\n",
       "    </tr>\n",
       "  </thead>\n",
       "  <tbody>\n",
       "    <tr>\n",
       "      <th>0</th>\n",
       "      <td>b'1'</td>\n",
       "      <td>b'1'</td>\n",
       "      <td>22.830137</td>\n",
       "      <td>b'0'</td>\n",
       "      <td>b'1'</td>\n",
       "      <td>b'0'</td>\n",
       "      <td>b'1'</td>\n",
       "      <td>b'1'</td>\n",
       "      <td>b'1'</td>\n",
       "      <td>b'0'</td>\n",
       "      <td>...</td>\n",
       "      <td>b'1'</td>\n",
       "      <td>7.20</td>\n",
       "      <td>1.338760</td>\n",
       "      <td>5.38</td>\n",
       "      <td>35.0</td>\n",
       "      <td>19.0</td>\n",
       "      <td>51.0</td>\n",
       "      <td>32.0</td>\n",
       "      <td>999.0</td>\n",
       "      <td>0.0</td>\n",
       "    </tr>\n",
       "    <tr>\n",
       "      <th>1</th>\n",
       "      <td>b'1'</td>\n",
       "      <td>b'0'</td>\n",
       "      <td>23.342466</td>\n",
       "      <td>b'0'</td>\n",
       "      <td>b'1'</td>\n",
       "      <td>b'0'</td>\n",
       "      <td>b'-1'</td>\n",
       "      <td>b'-1'</td>\n",
       "      <td>b'1'</td>\n",
       "      <td>b'0'</td>\n",
       "      <td>...</td>\n",
       "      <td>b'1'</td>\n",
       "      <td>4.50</td>\n",
       "      <td>11.078295</td>\n",
       "      <td>0.41</td>\n",
       "      <td>20.6</td>\n",
       "      <td>16.0</td>\n",
       "      <td>37.0</td>\n",
       "      <td>1000000.0</td>\n",
       "      <td>163.0</td>\n",
       "      <td>1.0</td>\n",
       "    </tr>\n",
       "    <tr>\n",
       "      <th>2</th>\n",
       "      <td>b'1'</td>\n",
       "      <td>b'0'</td>\n",
       "      <td>26.394521</td>\n",
       "      <td>b'0'</td>\n",
       "      <td>b'1'</td>\n",
       "      <td>b'0'</td>\n",
       "      <td>b'-1'</td>\n",
       "      <td>b'-1'</td>\n",
       "      <td>b'1'</td>\n",
       "      <td>b'0'</td>\n",
       "      <td>...</td>\n",
       "      <td>b'1'</td>\n",
       "      <td>7.94</td>\n",
       "      <td>19.013230</td>\n",
       "      <td>0.42</td>\n",
       "      <td>23.4</td>\n",
       "      <td>23.0</td>\n",
       "      <td>20.0</td>\n",
       "      <td>1000000.0</td>\n",
       "      <td>435.0</td>\n",
       "      <td>1.0</td>\n",
       "    </tr>\n",
       "    <tr>\n",
       "      <th>3</th>\n",
       "      <td>b'0'</td>\n",
       "      <td>b'0'</td>\n",
       "      <td>39.684932</td>\n",
       "      <td>b'1'</td>\n",
       "      <td>b'1'</td>\n",
       "      <td>b'0'</td>\n",
       "      <td>b'1'</td>\n",
       "      <td>b'2'</td>\n",
       "      <td>b'1'</td>\n",
       "      <td>b'1'</td>\n",
       "      <td>...</td>\n",
       "      <td>b'?'</td>\n",
       "      <td>4.25</td>\n",
       "      <td>29.481647</td>\n",
       "      <td>0.14</td>\n",
       "      <td>50.0</td>\n",
       "      <td>23.0</td>\n",
       "      <td>29.0</td>\n",
       "      <td>19.0</td>\n",
       "      <td>53.0</td>\n",
       "      <td>1.0</td>\n",
       "    </tr>\n",
       "    <tr>\n",
       "      <th>4</th>\n",
       "      <td>b'0'</td>\n",
       "      <td>b'1'</td>\n",
       "      <td>33.358904</td>\n",
       "      <td>b'0'</td>\n",
       "      <td>b'0'</td>\n",
       "      <td>b'0'</td>\n",
       "      <td>b'1'</td>\n",
       "      <td>b'2'</td>\n",
       "      <td>b'0'</td>\n",
       "      <td>b'1'</td>\n",
       "      <td>...</td>\n",
       "      <td>b'1'</td>\n",
       "      <td>51.85</td>\n",
       "      <td>3.972255</td>\n",
       "      <td>13.05</td>\n",
       "      <td>9.0</td>\n",
       "      <td>14.0</td>\n",
       "      <td>14.0</td>\n",
       "      <td>1000000.0</td>\n",
       "      <td>2043.0</td>\n",
       "      <td>0.0</td>\n",
       "    </tr>\n",
       "  </tbody>\n",
       "</table>\n",
       "<p>5 rows × 37 columns</p>\n",
       "</div>"
      ],
      "text/plain": [
       "  Recipientgender Stemcellsource   Donorage Donorage35  IIIV Gendermatch  \\\n",
       "0            b'1'           b'1'  22.830137       b'0'  b'1'        b'0'   \n",
       "1            b'1'           b'0'  23.342466       b'0'  b'1'        b'0'   \n",
       "2            b'1'           b'0'  26.394521       b'0'  b'1'        b'0'   \n",
       "3            b'0'           b'0'  39.684932       b'1'  b'1'        b'0'   \n",
       "4            b'0'           b'1'  33.358904       b'0'  b'0'        b'0'   \n",
       "\n",
       "  DonorABO RecipientABO RecipientRh ABOmatch  ... extcGvHD CD34kgx10d6  \\\n",
       "0     b'1'         b'1'        b'1'     b'0'  ...     b'1'        7.20   \n",
       "1    b'-1'        b'-1'        b'1'     b'0'  ...     b'1'        4.50   \n",
       "2    b'-1'        b'-1'        b'1'     b'0'  ...     b'1'        7.94   \n",
       "3     b'1'         b'2'        b'1'     b'1'  ...     b'?'        4.25   \n",
       "4     b'1'         b'2'        b'0'     b'1'  ...     b'1'       51.85   \n",
       "\n",
       "    CD3dCD34 CD3dkgx10d8 Rbodymass ANCrecovery PLTrecovery  \\\n",
       "0   1.338760        5.38      35.0        19.0        51.0   \n",
       "1  11.078295        0.41      20.6        16.0        37.0   \n",
       "2  19.013230        0.42      23.4        23.0        20.0   \n",
       "3  29.481647        0.14      50.0        23.0        29.0   \n",
       "4   3.972255       13.05       9.0        14.0        14.0   \n",
       "\n",
       "  time_to_aGvHD_III_IV survival_time survival_status  \n",
       "0                 32.0         999.0             0.0  \n",
       "1            1000000.0         163.0             1.0  \n",
       "2            1000000.0         435.0             1.0  \n",
       "3                 19.0          53.0             1.0  \n",
       "4            1000000.0        2043.0             0.0  \n",
       "\n",
       "[5 rows x 37 columns]"
      ]
     },
     "execution_count": 28,
     "metadata": {},
     "output_type": "execute_result"
    }
   ],
   "source": [
    "# Load ARFF file\n",
    "data = arff.loadarff('bone-marrow.arff')\n",
    "df = pd.DataFrame(data[0])\n",
    "\n",
    "print(f\"Dataset shape: {df.shape}\")\n",
    "print(f\"\\nColumns: {list(df.columns)}\")\n",
    "df.head()"
   ]
  },
  {
   "cell_type": "code",
   "execution_count": null,
   "id": "79fb6cec",
   "metadata": {},
   "outputs": [
    {
     "name": "stdout",
     "output_type": "stream",
     "text": [
      "Dataset Info:\n",
      "<class 'pandas.core.frame.DataFrame'>\n",
      "RangeIndex: 187 entries, 0 to 186\n",
      "Data columns (total 37 columns):\n",
      " #   Column                Non-Null Count  Dtype  \n",
      "---  ------                --------------  -----  \n",
      " 0   Recipientgender       187 non-null    object \n",
      " 1   Stemcellsource        187 non-null    object \n",
      " 2   Donorage              187 non-null    float64\n",
      " 3   Donorage35            187 non-null    object \n",
      " 4   IIIV                  187 non-null    object \n",
      " 5   Gendermatch           187 non-null    object \n",
      " 6   DonorABO              187 non-null    object \n",
      " 7   RecipientABO          187 non-null    object \n",
      " 8   RecipientRh           187 non-null    object \n",
      " 9   ABOmatch              187 non-null    object \n",
      " 10  CMVstatus             187 non-null    object \n",
      " 11  DonorCMV              187 non-null    object \n",
      " 12  RecipientCMV          187 non-null    object \n",
      " 13  Disease               187 non-null    object \n",
      " 14  Riskgroup             187 non-null    object \n",
      " 15  Txpostrelapse         187 non-null    object \n",
      " 16  Diseasegroup          187 non-null    object \n",
      " 17  HLAmatch              187 non-null    object \n",
      " 18  HLAmismatch           187 non-null    object \n",
      " 19  Antigen               187 non-null    object \n",
      " 20  Alel                  187 non-null    object \n",
      " 21  HLAgrI                187 non-null    object \n",
      " 22  Recipientage          187 non-null    float64\n",
      " 23  Recipientage10        187 non-null    object \n",
      " 24  Recipientageint       187 non-null    object \n",
      " 25  Relapse               187 non-null    object \n",
      " 26  aGvHDIIIIV            187 non-null    object \n",
      " 27  extcGvHD              187 non-null    object \n",
      " 28  CD34kgx10d6           187 non-null    float64\n",
      " 29  CD3dCD34              182 non-null    float64\n",
      " 30  CD3dkgx10d8           182 non-null    float64\n",
      " 31  Rbodymass             185 non-null    float64\n",
      " 32  ANCrecovery           187 non-null    float64\n",
      " 33  PLTrecovery           187 non-null    float64\n",
      " 34  time_to_aGvHD_III_IV  187 non-null    float64\n",
      " 35  survival_time         187 non-null    float64\n",
      " 36  survival_status       187 non-null    float64\n",
      "dtypes: float64(11), object(26)\n",
      "memory usage: 54.2+ KB\n",
      "\n",
      "============================================================\n",
      "Summary Statistics:\n"
     ]
    },
    {
     "data": {
      "application/vnd.microsoft.datawrangler.viewer.v0+json": {
       "columns": [
        {
         "name": "index",
         "rawType": "object",
         "type": "string"
        },
        {
         "name": "Donorage",
         "rawType": "float64",
         "type": "float"
        },
        {
         "name": "Recipientage",
         "rawType": "float64",
         "type": "float"
        },
        {
         "name": "CD34kgx10d6",
         "rawType": "float64",
         "type": "float"
        },
        {
         "name": "CD3dCD34",
         "rawType": "float64",
         "type": "float"
        },
        {
         "name": "CD3dkgx10d8",
         "rawType": "float64",
         "type": "float"
        },
        {
         "name": "Rbodymass",
         "rawType": "float64",
         "type": "float"
        },
        {
         "name": "ANCrecovery",
         "rawType": "float64",
         "type": "float"
        },
        {
         "name": "PLTrecovery",
         "rawType": "float64",
         "type": "float"
        },
        {
         "name": "time_to_aGvHD_III_IV",
         "rawType": "float64",
         "type": "float"
        },
        {
         "name": "survival_time",
         "rawType": "float64",
         "type": "float"
        },
        {
         "name": "survival_status",
         "rawType": "float64",
         "type": "float"
        }
       ],
       "ref": "979c1c08-e05b-45bc-b986-ead9481a1b23",
       "rows": [
        [
         "count",
         "187.0",
         "187.0",
         "187.0",
         "182.0",
         "182.0",
         "185.0",
         "187.0",
         "187.0",
         "187.0",
         "187.0",
         "187.0"
        ],
        [
         "mean",
         "33.47206797860963",
         "9.93155080213904",
         "11.891780748663102",
         "5.385096313186812",
         "4.7457142857142856",
         "35.80108108108108",
         "26752.86631016043",
         "90937.91978609626",
         "775408.0427807487",
         "938.7433155080214",
         "0.45454545454545453"
        ],
        [
         "std",
         "8.271825680800239",
         "5.305639042245413",
         "9.914386108783338",
         "9.598715947679853",
         "3.859127987511387",
         "19.650921648894712",
         "161747.20052506964",
         "288242.40768849995",
         "418425.2526891857",
         "849.5894950521263",
         "0.49926632388945275"
        ],
        [
         "min",
         "18.646575",
         "0.6",
         "0.79",
         "0.204132",
         "0.04",
         "6.0",
         "9.0",
         "9.0",
         "10.0",
         "6.0",
         "0.0"
        ],
        [
         "25%",
         "27.039726",
         "5.05",
         "5.35",
         "1.786683",
         "1.6875",
         "19.0",
         "13.0",
         "16.0",
         "1000000.0",
         "168.5",
         "0.0"
        ],
        [
         "50%",
         "33.550685",
         "9.6",
         "9.72",
         "2.7344615",
         "4.324999999999999",
         "33.0",
         "15.0",
         "21.0",
         "1000000.0",
         "676.0",
         "0.0"
        ],
        [
         "75%",
         "40.1178085",
         "14.05",
         "15.415",
         "5.823564999999999",
         "6.785",
         "50.6",
         "17.0",
         "37.0",
         "1000000.0",
         "1604.0",
         "1.0"
        ],
        [
         "max",
         "55.553425",
         "20.2",
         "57.78",
         "99.56097",
         "20.02",
         "103.4",
         "1000000.0",
         "1000000.0",
         "1000000.0",
         "3364.0",
         "1.0"
        ]
       ],
       "shape": {
        "columns": 11,
        "rows": 8
       }
      },
      "text/html": [
       "<div>\n",
       "<style scoped>\n",
       "    .dataframe tbody tr th:only-of-type {\n",
       "        vertical-align: middle;\n",
       "    }\n",
       "\n",
       "    .dataframe tbody tr th {\n",
       "        vertical-align: top;\n",
       "    }\n",
       "\n",
       "    .dataframe thead th {\n",
       "        text-align: right;\n",
       "    }\n",
       "</style>\n",
       "<table border=\"1\" class=\"dataframe\">\n",
       "  <thead>\n",
       "    <tr style=\"text-align: right;\">\n",
       "      <th></th>\n",
       "      <th>Donorage</th>\n",
       "      <th>Recipientage</th>\n",
       "      <th>CD34kgx10d6</th>\n",
       "      <th>CD3dCD34</th>\n",
       "      <th>CD3dkgx10d8</th>\n",
       "      <th>Rbodymass</th>\n",
       "      <th>ANCrecovery</th>\n",
       "      <th>PLTrecovery</th>\n",
       "      <th>time_to_aGvHD_III_IV</th>\n",
       "      <th>survival_time</th>\n",
       "      <th>survival_status</th>\n",
       "    </tr>\n",
       "  </thead>\n",
       "  <tbody>\n",
       "    <tr>\n",
       "      <th>count</th>\n",
       "      <td>187.000000</td>\n",
       "      <td>187.000000</td>\n",
       "      <td>187.000000</td>\n",
       "      <td>182.000000</td>\n",
       "      <td>182.000000</td>\n",
       "      <td>185.000000</td>\n",
       "      <td>187.000000</td>\n",
       "      <td>187.000000</td>\n",
       "      <td>187.000000</td>\n",
       "      <td>187.000000</td>\n",
       "      <td>187.000000</td>\n",
       "    </tr>\n",
       "    <tr>\n",
       "      <th>mean</th>\n",
       "      <td>33.472068</td>\n",
       "      <td>9.931551</td>\n",
       "      <td>11.891781</td>\n",
       "      <td>5.385096</td>\n",
       "      <td>4.745714</td>\n",
       "      <td>35.801081</td>\n",
       "      <td>26752.866310</td>\n",
       "      <td>90937.919786</td>\n",
       "      <td>775408.042781</td>\n",
       "      <td>938.743316</td>\n",
       "      <td>0.454545</td>\n",
       "    </tr>\n",
       "    <tr>\n",
       "      <th>std</th>\n",
       "      <td>8.271826</td>\n",
       "      <td>5.305639</td>\n",
       "      <td>9.914386</td>\n",
       "      <td>9.598716</td>\n",
       "      <td>3.859128</td>\n",
       "      <td>19.650922</td>\n",
       "      <td>161747.200525</td>\n",
       "      <td>288242.407688</td>\n",
       "      <td>418425.252689</td>\n",
       "      <td>849.589495</td>\n",
       "      <td>0.499266</td>\n",
       "    </tr>\n",
       "    <tr>\n",
       "      <th>min</th>\n",
       "      <td>18.646575</td>\n",
       "      <td>0.600000</td>\n",
       "      <td>0.790000</td>\n",
       "      <td>0.204132</td>\n",
       "      <td>0.040000</td>\n",
       "      <td>6.000000</td>\n",
       "      <td>9.000000</td>\n",
       "      <td>9.000000</td>\n",
       "      <td>10.000000</td>\n",
       "      <td>6.000000</td>\n",
       "      <td>0.000000</td>\n",
       "    </tr>\n",
       "    <tr>\n",
       "      <th>25%</th>\n",
       "      <td>27.039726</td>\n",
       "      <td>5.050000</td>\n",
       "      <td>5.350000</td>\n",
       "      <td>1.786683</td>\n",
       "      <td>1.687500</td>\n",
       "      <td>19.000000</td>\n",
       "      <td>13.000000</td>\n",
       "      <td>16.000000</td>\n",
       "      <td>1000000.000000</td>\n",
       "      <td>168.500000</td>\n",
       "      <td>0.000000</td>\n",
       "    </tr>\n",
       "    <tr>\n",
       "      <th>50%</th>\n",
       "      <td>33.550685</td>\n",
       "      <td>9.600000</td>\n",
       "      <td>9.720000</td>\n",
       "      <td>2.734462</td>\n",
       "      <td>4.325000</td>\n",
       "      <td>33.000000</td>\n",
       "      <td>15.000000</td>\n",
       "      <td>21.000000</td>\n",
       "      <td>1000000.000000</td>\n",
       "      <td>676.000000</td>\n",
       "      <td>0.000000</td>\n",
       "    </tr>\n",
       "    <tr>\n",
       "      <th>75%</th>\n",
       "      <td>40.117809</td>\n",
       "      <td>14.050000</td>\n",
       "      <td>15.415000</td>\n",
       "      <td>5.823565</td>\n",
       "      <td>6.785000</td>\n",
       "      <td>50.600000</td>\n",
       "      <td>17.000000</td>\n",
       "      <td>37.000000</td>\n",
       "      <td>1000000.000000</td>\n",
       "      <td>1604.000000</td>\n",
       "      <td>1.000000</td>\n",
       "    </tr>\n",
       "    <tr>\n",
       "      <th>max</th>\n",
       "      <td>55.553425</td>\n",
       "      <td>20.200000</td>\n",
       "      <td>57.780000</td>\n",
       "      <td>99.560970</td>\n",
       "      <td>20.020000</td>\n",
       "      <td>103.400000</td>\n",
       "      <td>1000000.000000</td>\n",
       "      <td>1000000.000000</td>\n",
       "      <td>1000000.000000</td>\n",
       "      <td>3364.000000</td>\n",
       "      <td>1.000000</td>\n",
       "    </tr>\n",
       "  </tbody>\n",
       "</table>\n",
       "</div>"
      ],
      "text/plain": [
       "         Donorage  Recipientage  CD34kgx10d6    CD3dCD34  CD3dkgx10d8  \\\n",
       "count  187.000000    187.000000   187.000000  182.000000   182.000000   \n",
       "mean    33.472068      9.931551    11.891781    5.385096     4.745714   \n",
       "std      8.271826      5.305639     9.914386    9.598716     3.859128   \n",
       "min     18.646575      0.600000     0.790000    0.204132     0.040000   \n",
       "25%     27.039726      5.050000     5.350000    1.786683     1.687500   \n",
       "50%     33.550685      9.600000     9.720000    2.734462     4.325000   \n",
       "75%     40.117809     14.050000    15.415000    5.823565     6.785000   \n",
       "max     55.553425     20.200000    57.780000   99.560970    20.020000   \n",
       "\n",
       "        Rbodymass     ANCrecovery     PLTrecovery  time_to_aGvHD_III_IV  \\\n",
       "count  185.000000      187.000000      187.000000            187.000000   \n",
       "mean    35.801081    26752.866310    90937.919786         775408.042781   \n",
       "std     19.650922   161747.200525   288242.407688         418425.252689   \n",
       "min      6.000000        9.000000        9.000000             10.000000   \n",
       "25%     19.000000       13.000000       16.000000        1000000.000000   \n",
       "50%     33.000000       15.000000       21.000000        1000000.000000   \n",
       "75%     50.600000       17.000000       37.000000        1000000.000000   \n",
       "max    103.400000  1000000.000000  1000000.000000        1000000.000000   \n",
       "\n",
       "       survival_time  survival_status  \n",
       "count     187.000000       187.000000  \n",
       "mean      938.743316         0.454545  \n",
       "std       849.589495         0.499266  \n",
       "min         6.000000         0.000000  \n",
       "25%       168.500000         0.000000  \n",
       "50%       676.000000         0.000000  \n",
       "75%      1604.000000         1.000000  \n",
       "max      3364.000000         1.000000  "
      ]
     },
     "execution_count": 29,
     "metadata": {},
     "output_type": "execute_result"
    }
   ],
   "source": [
    "# Display basic info\n",
    "print(\"Dataset Info:\")\n",
    "df.info()\n",
    "print(\"\\n\" + \"=\"*60)\n",
    "print(\"Summary Statistics:\")\n",
    "df.describe()"
   ]
  },
  {
   "cell_type": "markdown",
   "id": "0ff4d68b",
   "metadata": {},
   "source": [
    "---\n",
    "## 3. Data Cleaning and Preprocessing\n",
    "\n",
    "### 3.1 Remove Unnecessary Columns\n",
    "\n",
    "Drop the `Disease` column as it's not needed for this analysis."
   ]
  },
  {
   "cell_type": "code",
   "execution_count": null,
   "id": "d75dab83",
   "metadata": {},
   "outputs": [
    {
     "name": "stdout",
     "output_type": "stream",
     "text": [
      "Columns after dropping 'Disease': ['Recipientgender', 'Stemcellsource', 'Donorage', 'Donorage35', 'IIIV', 'Gendermatch', 'DonorABO', 'RecipientABO', 'RecipientRh', 'ABOmatch', 'CMVstatus', 'DonorCMV', 'RecipientCMV', 'Riskgroup', 'Txpostrelapse', 'Diseasegroup', 'HLAmatch', 'HLAmismatch', 'Antigen', 'Alel', 'HLAgrI', 'Recipientage', 'Recipientage10', 'Recipientageint', 'Relapse', 'aGvHDIIIIV', 'extcGvHD', 'CD34kgx10d6', 'CD3dCD34', 'CD3dkgx10d8', 'Rbodymass', 'ANCrecovery', 'PLTrecovery', 'time_to_aGvHD_III_IV', 'survival_time', 'survival_status']\n",
      "New shape: (187, 36)\n"
     ]
    }
   ],
   "source": [
    "# Drop Disease column\n",
    "df.drop(columns=['Disease'], inplace=True)\n",
    "print(f\"Columns after dropping 'Disease': {list(df.columns)}\")\n",
    "print(f\"New shape: {df.shape}\")"
   ]
  },
  {
   "cell_type": "markdown",
   "id": "311dfd51",
   "metadata": {},
   "source": [
    "### 3.2 Type Conversion\n",
    "\n",
    "Convert all columns to numeric, coercing errors to NaN values."
   ]
  },
  {
   "cell_type": "code",
   "execution_count": null,
   "id": "1e64bff3",
   "metadata": {},
   "outputs": [
    {
     "name": "stdout",
     "output_type": "stream",
     "text": [
      "✓ All columns converted to numeric\n",
      "\n",
      "Data types after conversion:\n",
      "float64    20\n",
      "int64      16\n",
      "Name: count, dtype: int64\n"
     ]
    }
   ],
   "source": [
    "# Convert all columns to numeric\n",
    "for col in df.columns:\n",
    "    df[col] = pd.to_numeric(df[col], errors='coerce')\n",
    "\n",
    "print(\"✓ All columns converted to numeric\")\n",
    "print(f\"\\nData types after conversion:\")\n",
    "print(df.dtypes.value_counts())"
   ]
  },
  {
   "cell_type": "markdown",
   "id": "2ecf82ae",
   "metadata": {},
   "source": [
    "### 3.3 Binary Column Encoding\n",
    "\n",
    "Ensure binary columns are properly encoded as 0 and 1."
   ]
  },
  {
   "cell_type": "code",
   "execution_count": null,
   "id": "7a80b968",
   "metadata": {},
   "outputs": [
    {
     "name": "stdout",
     "output_type": "stream",
     "text": [
      "Binary columns found: ['Recipientgender', 'Stemcellsource', 'Donorage35', 'IIIV', 'Gendermatch', 'RecipientRh', 'ABOmatch', 'DonorCMV', 'RecipientCMV', 'Riskgroup', 'Txpostrelapse', 'Diseasegroup', 'HLAmismatch', 'Recipientage10', 'Relapse', 'aGvHDIIIIV', 'extcGvHD', 'survival_status']\n",
      "✓ Binary columns encoded as 0/1\n"
     ]
    }
   ],
   "source": [
    "# Encode binary columns as 0/1\n",
    "binary_cols = df.columns[df.nunique() == 2]\n",
    "print(f\"Binary columns found: {list(binary_cols)}\")\n",
    "\n",
    "for col in binary_cols:\n",
    "    df[col] = (df[col] == 1) * 1.0\n",
    "\n",
    "print(\"✓ Binary columns encoded as 0/1\")"
   ]
  },
  {
   "cell_type": "markdown",
   "id": "a9b53f64",
   "metadata": {},
   "source": [
    "---\n",
    "## 4. Exploratory Data Analysis (EDA)\n",
    "\n",
    "### 4.1 Feature Cardinality"
   ]
  },
  {
   "cell_type": "code",
   "execution_count": null,
   "id": "af81d8c4",
   "metadata": {},
   "outputs": [
    {
     "name": "stdout",
     "output_type": "stream",
     "text": [
      "Unique values per column:\n",
      "============================================================\n",
      "                      unique_count\n",
      "Donorage                       187\n",
      "CD34kgx10d6                    183\n",
      "CD3dCD34                       182\n",
      "survival_time                  174\n",
      "CD3dkgx10d8                    163\n",
      "Rbodymass                      130\n",
      "Recipientage                   125\n",
      "PLTrecovery                     50\n",
      "time_to_aGvHD_III_IV            28\n",
      "ANCrecovery                     18\n",
      "HLAgrI                           7\n",
      "Alel                             5\n",
      "HLAmatch                         4\n",
      "Antigen                          4\n",
      "CMVstatus                        4\n",
      "RecipientABO                     4\n",
      "DonorABO                         4\n",
      "Recipientageint                  3\n",
      "Recipientgender                  2\n",
      "Stemcellsource                   2\n",
      "Donorage35                       2\n",
      "Riskgroup                        2\n",
      "HLAmismatch                      2\n",
      "Diseasegroup                     2\n",
      "RecipientCMV                     2\n",
      "RecipientRh                      2\n",
      "ABOmatch                         2\n",
      "DonorCMV                         2\n",
      "Gendermatch                      2\n",
      "IIIV                             2\n",
      "Txpostrelapse                    2\n",
      "Recipientage10                   2\n",
      "extcGvHD                         2\n",
      "aGvHDIIIIV                       2\n",
      "Relapse                          2\n",
      "survival_status                  2\n"
     ]
    },
    {
     "data": {
      "text/plain": [
       "<Figure size 1200x600 with 0 Axes>"
      ]
     },
     "metadata": {},
     "output_type": "display_data"
    },
    {
     "data": {
      "image/png": "[encoded data removed]",
      "text/plain": [
       "<Figure size 1000x600 with 1 Axes>"
      ]
     },
     "metadata": {},
     "output_type": "display_data"
    }
   ],
   "source": [
    "# Count unique values per column\n",
    "print(\"Unique values per column:\")\n",
    "print(\"=\" * 60)\n",
    "nunique_df = df.nunique().sort_values(ascending=False).to_frame('unique_count')\n",
    "print(nunique_df)\n",
    "\n",
    "# Visualize\n",
    "plt.figure(figsize=(12, 6))\n",
    "nunique_df.plot(kind='barh', legend=False)\n",
    "plt.xlabel('Number of Unique Values')\n",
    "plt.ylabel('Features')\n",
    "plt.title('Feature Cardinality')\n",
    "plt.tight_layout()\n",
    "plt.show()"
   ]
  },
  {
   "cell_type": "markdown",
   "id": "4fbf02a3",
   "metadata": {},
   "source": [
    "### 4.2 Missing Values Analysis"
   ]
  },
  {
   "cell_type": "code",
   "execution_count": 34,
   "id": "167860bd",
   "metadata": {},
   "outputs": [
    {
     "name": "stdout",
     "output_type": "stream",
     "text": [
      "Missing Values Summary:\n",
      "============================================================\n",
      "              Missing_Count  Missing_Percentage\n",
      "CMVstatus                16            8.556150\n",
      "CD3dkgx10d8               5            2.673797\n",
      "CD3dCD34                  5            2.673797\n",
      "Rbodymass                 2            1.069519\n",
      "Alel                      1            0.534759\n",
      "RecipientABO              1            0.534759\n",
      "Antigen                   1            0.534759\n"
     ]
    },
    {
     "data": {
      "image/png": "[encoded data removed]",
      "text/plain": [
       "<Figure size 1200x600 with 1 Axes>"
      ]
     },
     "metadata": {},
     "output_type": "display_data"
    }
   ],
   "source": [
    "# Missing values summary\n",
    "missing = df.isnull().sum()\n",
    "missing_pct = (missing / len(df)) * 100\n",
    "missing_df = pd.DataFrame({\n",
    "    'Missing_Count': missing,\n",
    "    'Missing_Percentage': missing_pct\n",
    "}).sort_values('Missing_Count', ascending=False)\n",
    "\n",
    "print(\"Missing Values Summary:\")\n",
    "print(\"=\" * 60)\n",
    "print(missing_df[missing_df['Missing_Count'] > 0])\n",
    "\n",
    "# Visualize missing values\n",
    "if missing_df['Missing_Count'].sum() > 0:\n",
    "    plt.figure(figsize=(12, 6))\n",
    "    missing_df[missing_df['Missing_Count'] > 0]['Missing_Percentage'].plot(kind='barh')\n",
    "    plt.xlabel('Missing Percentage (%)')\n",
    "    plt.ylabel('Features')\n",
    "    plt.title('Missing Values by Feature')\n",
    "    plt.tight_layout()\n",
    "    plt.show()"
   ]
  },
  {
   "cell_type": "markdown",
   "id": "ba941fed",
   "metadata": {},
   "source": [
    "### 4.3 Target Variable Distribution"
   ]
  },
  {
   "cell_type": "code",
   "execution_count": 35,
   "id": "a56e246e",
   "metadata": {},
   "outputs": [
    {
     "name": "stdout",
     "output_type": "stream",
     "text": [
      "Target variable: survival_status\n",
      "============================================================\n",
      "survival_status\n",
      "0.0    102\n",
      "1.0     85\n",
      "Name: count, dtype: int64\n",
      "\n",
      "Class balance:\n",
      "survival_status\n",
      "0.0    54.545455\n",
      "1.0    45.454545\n",
      "Name: proportion, dtype: float64\n"
     ]
    },
    {
     "data": {
      "image/png": "[encoded data removed]",
      "text/plain": [
       "<Figure size 1400x500 with 2 Axes>"
      ]
     },
     "metadata": {},
     "output_type": "display_data"
    }
   ],
   "source": [
    "# Target distribution\n",
    "target_col = 'survival_status'\n",
    "print(f\"Target variable: {target_col}\")\n",
    "print(\"=\" * 60)\n",
    "print(df[target_col].value_counts())\n",
    "print(f\"\\nClass balance:\")\n",
    "print(df[target_col].value_counts(normalize=True) * 100)\n",
    "\n",
    "# Visualize\n",
    "fig, axes = plt.subplots(1, 2, figsize=(14, 5))\n",
    "\n",
    "df[target_col].value_counts().plot(kind='bar', ax=axes[0], color=['#2ecc71', '#e74c3c'])\n",
    "axes[0].set_title('Survival Status Distribution (Counts)')\n",
    "axes[0].set_xlabel('Survival Status')\n",
    "axes[0].set_ylabel('Count')\n",
    "axes[0].set_xticklabels(axes[0].get_xticklabels(), rotation=0)\n",
    "\n",
    "df[target_col].value_counts().plot(kind='pie', ax=axes[1], autopct='%1.1f%%', colors=['#2ecc71', '#e74c3c'])\n",
    "axes[1].set_title('Survival Status Distribution (Percentage)')\n",
    "axes[1].set_ylabel('')\n",
    "\n",
    "plt.tight_layout()\n",
    "plt.show()"
   ]
  },
  {
   "cell_type": "markdown",
   "id": "2dd31be3",
   "metadata": {},
   "source": [
    "---\n",
    "## 5. Feature and Target Split\n",
    "\n",
    "Separate features (X) and target (y). We drop `survival_time` as it's not a predictor."
   ]
  },
  {
   "cell_type": "code",
   "execution_count": 36,
   "id": "d135f250",
   "metadata": {},
   "outputs": [
    {
     "name": "stdout",
     "output_type": "stream",
     "text": [
      "Features shape: (187, 34)\n",
      "Target shape: (187,)\n",
      "\n",
      "Feature columns (34):\n",
      "['Recipientgender', 'Stemcellsource', 'Donorage', 'Donorage35', 'IIIV', 'Gendermatch', 'DonorABO', 'RecipientABO', 'RecipientRh', 'ABOmatch', 'CMVstatus', 'DonorCMV', 'RecipientCMV', 'Riskgroup', 'Txpostrelapse', 'Diseasegroup', 'HLAmatch', 'HLAmismatch', 'Antigen', 'Alel', 'HLAgrI', 'Recipientage', 'Recipientage10', 'Recipientageint', 'Relapse', 'aGvHDIIIIV', 'extcGvHD', 'CD34kgx10d6', 'CD3dCD34', 'CD3dkgx10d8', 'Rbodymass', 'ANCrecovery', 'PLTrecovery', 'time_to_aGvHD_III_IV']\n"
     ]
    }
   ],
   "source": [
    "# Define target and features\n",
    "y = df['survival_status']\n",
    "X = df.drop(columns=['survival_status', 'survival_time'])\n",
    "\n",
    "print(f\"Features shape: {X.shape}\")\n",
    "print(f\"Target shape: {y.shape}\")\n",
    "print(f\"\\nFeature columns ({len(X.columns)}):\")\n",
    "print(list(X.columns))"
   ]
  },
  {
   "cell_type": "markdown",
   "id": "7ffeb8b5",
   "metadata": {},
   "source": [
    "### 5.1 Identify Categorical vs Numerical Features\n",
    "\n",
    "Based on cardinality (≤7 unique values → categorical, >7 → numerical)."
   ]
  },
  {
   "cell_type": "code",
   "execution_count": 37,
   "id": "0869261e",
   "metadata": {},
   "outputs": [
    {
     "name": "stdout",
     "output_type": "stream",
     "text": [
      "Numerical features (9):\n",
      "['Donorage', 'Recipientage', 'CD34kgx10d6', 'CD3dCD34', 'CD3dkgx10d8', 'Rbodymass', 'ANCrecovery', 'PLTrecovery', 'time_to_aGvHD_III_IV']\n",
      "\n",
      "Categorical features (25):\n",
      "['Recipientgender', 'Stemcellsource', 'Donorage35', 'IIIV', 'Gendermatch', 'DonorABO', 'RecipientABO', 'RecipientRh', 'ABOmatch', 'CMVstatus', 'DonorCMV', 'RecipientCMV', 'Riskgroup', 'Txpostrelapse', 'Diseasegroup', 'HLAmatch', 'HLAmismatch', 'Antigen', 'Alel', 'HLAgrI', 'Recipientage10', 'Recipientageint', 'Relapse', 'aGvHDIIIIV', 'extcGvHD']\n"
     ]
    }
   ],
   "source": [
    "# Define categorical and numerical columns based on unique value count\n",
    "CARDINALITY_THRESHOLD = 7\n",
    "num_cols = X.columns[X.nunique() > CARDINALITY_THRESHOLD].tolist()\n",
    "cat_cols = X.columns[X.nunique() <= CARDINALITY_THRESHOLD].tolist()\n",
    "\n",
    "print(f\"Numerical features ({len(num_cols)}):\")\n",
    "print(num_cols)\n",
    "print(f\"\\nCategorical features ({len(cat_cols)}):\")\n",
    "print(cat_cols)"
   ]
  },
  {
   "cell_type": "markdown",
   "id": "9518f90b",
   "metadata": {},
   "source": [
    "---\n",
    "## 6. Train-Test Split\n",
    "\n",
    "Split data into training (80%) and test (20%) sets with stratification."
   ]
  },
  {
   "cell_type": "code",
   "execution_count": 38,
   "id": "b409f161",
   "metadata": {},
   "outputs": [
    {
     "name": "stdout",
     "output_type": "stream",
     "text": [
      "Training set: (149, 34)\n",
      "Test set: (38, 34)\n",
      "\n",
      "Class distribution in training set:\n",
      "survival_status\n",
      "0.0    54.362416\n",
      "1.0    45.637584\n",
      "Name: proportion, dtype: float64\n",
      "\n",
      "Class distribution in test set:\n",
      "survival_status\n",
      "0.0    55.263158\n",
      "1.0    44.736842\n",
      "Name: proportion, dtype: float64\n"
     ]
    }
   ],
   "source": [
    "# Train-test split\n",
    "X_train, X_test, y_train, y_test = train_test_split(\n",
    "    X, y, \n",
    "    test_size=0.2, \n",
    "    random_state=42,\n",
    "    stratify=y\n",
    ")\n",
    "\n",
    "print(f\"Training set: {X_train.shape}\")\n",
    "print(f\"Test set: {X_test.shape}\")\n",
    "print(f\"\\nClass distribution in training set:\")\n",
    "print(y_train.value_counts(normalize=True) * 100)\n",
    "print(f\"\\nClass distribution in test set:\")\n",
    "print(y_test.value_counts(normalize=True) * 100)"
   ]
  },
  {
   "cell_type": "markdown",
   "id": "7fc9d4e8",
   "metadata": {},
   "source": [
    "---\n",
    "## 7. Build Preprocessing Pipeline\n",
    "\n",
    "Create separate preprocessing pipelines for categorical and numerical features.\n",
    "\n",
    "### 7.1 Categorical Pipeline\n",
    "- Impute missing values with most frequent value (mode)\n",
    "- One-Hot Encode with `drop='first'` to avoid multicollinearity\n",
    "\n",
    "### 7.2 Numerical Pipeline\n",
    "- Impute missing values with mean\n",
    "- Standardize features (zero mean, unit variance)"
   ]
  },
  {
   "cell_type": "code",
   "execution_count": 39,
   "id": "66f6fc2a",
   "metadata": {},
   "outputs": [
    {
     "name": "stdout",
     "output_type": "stream",
     "text": [
      "✓ Preprocessing pipeline created\n",
      "  - Categorical features: 25\n",
      "  - Numerical features: 9\n"
     ]
    }
   ],
   "source": [
    "# Categorical preprocessing pipeline\n",
    "cat_pipeline = Pipeline([\n",
    "    ('imputer', SimpleImputer(strategy='most_frequent')),\n",
    "    ('ohe', OneHotEncoder(sparse_output=False, drop='first', handle_unknown='ignore'))\n",
    "])\n",
    "\n",
    "# Numerical preprocessing pipeline\n",
    "num_pipeline = Pipeline([\n",
    "    ('imputer', SimpleImputer(strategy='mean')),\n",
    "    ('scaler', StandardScaler())\n",
    "])\n",
    "\n",
    "# Combine with ColumnTransformer\n",
    "preprocessor = ColumnTransformer(\n",
    "    transformers=[\n",
    "        ('cat', cat_pipeline, cat_cols),\n",
    "        ('num', num_pipeline, num_cols)\n",
    "    ],\n",
    "    verbose_feature_names_out=False\n",
    ")\n",
    "\n",
    "print(\"✓ Preprocessing pipeline created\")\n",
    "print(f\"  - Categorical features: {len(cat_cols)}\")\n",
    "print(f\"  - Numerical features: {len(num_cols)}\")"
   ]
  },
  {
   "cell_type": "markdown",
   "id": "d34608b9",
   "metadata": {},
   "source": [
    "---\n",
    "## 8. Build Full ML Pipeline\n",
    "\n",
    "Combine preprocessing, dimensionality reduction (PCA), and classification (Logistic Regression) into a single pipeline."
   ]
  },
  {
   "cell_type": "code",
   "execution_count": 40,
   "id": "c3e1ffa7",
   "metadata": {},
   "outputs": [
    {
     "name": "stdout",
     "output_type": "stream",
     "text": [
      "✓ Full pipeline created\n",
      "\n",
      "Pipeline steps:\n",
      "  1. preprocess: ColumnTransformer\n",
      "  2. pca: PCA\n",
      "  3. clf: LogisticRegression\n"
     ]
    }
   ],
   "source": [
    "# Create full pipeline\n",
    "pipeline = Pipeline([\n",
    "    ('preprocess', preprocessor),\n",
    "    ('pca', PCA()),\n",
    "    ('clf', LogisticRegression(max_iter=1000, random_state=42))\n",
    "])\n",
    "\n",
    "print(\"✓ Full pipeline created\")\n",
    "print(\"\\nPipeline steps:\")\n",
    "for idx, (name, step) in enumerate(pipeline.steps, 1):\n",
    "    print(f\"  {idx}. {name}: {type(step).__name__}\")"
   ]
  },
  {
   "cell_type": "markdown",
   "id": "fb402881",
   "metadata": {},
   "source": [
    "---\n",
    "## 9. Train Baseline Model\n",
    "\n",
    "Train the pipeline with default parameters to establish a baseline."
   ]
  },
  {
   "cell_type": "code",
   "execution_count": 41,
   "id": "99566420",
   "metadata": {},
   "outputs": [
    {
     "name": "stdout",
     "output_type": "stream",
     "text": [
      "Training baseline model...\n",
      "\n",
      "============================================================\n",
      "BASELINE MODEL PERFORMANCE\n",
      "============================================================\n",
      "Training Accuracy: 0.8926\n",
      "Test Accuracy:     0.5789\n",
      "============================================================\n"
     ]
    }
   ],
   "source": [
    "# Fit the pipeline\n",
    "print(\"Training baseline model...\")\n",
    "pipeline.fit(X_train, y_train)\n",
    "\n",
    "# Evaluate on train and test sets\n",
    "train_score = pipeline.score(X_train, y_train)\n",
    "test_score = pipeline.score(X_test, y_test)\n",
    "\n",
    "print(f\"\\n{'='*60}\")\n",
    "print(\"BASELINE MODEL PERFORMANCE\")\n",
    "print(f\"{'='*60}\")\n",
    "print(f\"Training Accuracy: {train_score:.4f}\")\n",
    "print(f\"Test Accuracy:     {test_score:.4f}\")\n",
    "print(f\"{'='*60}\")"
   ]
  },
  {
   "cell_type": "markdown",
   "id": "9e218685",
   "metadata": {},
   "source": [
    "### 9.1 Baseline Model Evaluation"
   ]
  },
  {
   "cell_type": "code",
   "execution_count": 42,
   "id": "3dd0bbc5",
   "metadata": {},
   "outputs": [
    {
     "name": "stdout",
     "output_type": "stream",
     "text": [
      "Classification Report (Baseline):\n",
      "============================================================\n",
      "              precision    recall  f1-score   support\n",
      "\n",
      "         0.0       0.60      0.71      0.65        21\n",
      "         1.0       0.54      0.41      0.47        17\n",
      "\n",
      "    accuracy                           0.58        38\n",
      "   macro avg       0.57      0.56      0.56        38\n",
      "weighted avg       0.57      0.58      0.57        38\n",
      "\n"
     ]
    },
    {
     "data": {
      "image/png": "[encoded data removed]",
      "text/plain": [
       "<Figure size 800x600 with 1 Axes>"
      ]
     },
     "metadata": {},
     "output_type": "display_data"
    }
   ],
   "source": [
    "# Predictions\n",
    "y_pred_baseline = pipeline.predict(X_test)\n",
    "y_pred_proba_baseline = pipeline.predict_proba(X_test)[:, 1]\n",
    "\n",
    "# Classification report\n",
    "print(\"Classification Report (Baseline):\")\n",
    "print(\"=\" * 60)\n",
    "print(classification_report(y_test, y_pred_baseline))\n",
    "\n",
    "# Confusion matrix\n",
    "cm = confusion_matrix(y_test, y_pred_baseline)\n",
    "plt.figure(figsize=(8, 6))\n",
    "sns.heatmap(cm, annot=True, fmt='d', cmap='Blues', cbar=False)\n",
    "plt.title('Confusion Matrix (Baseline Model)')\n",
    "plt.ylabel('True Label')\n",
    "plt.xlabel('Predicted Label')\n",
    "plt.tight_layout()\n",
    "plt.show()"
   ]
  },
  {
   "cell_type": "markdown",
   "id": "53805e08",
   "metadata": {},
   "source": [
    "---\n",
    "## 10. Hyperparameter Tuning with GridSearchCV\n",
    "\n",
    "Optimize:\n",
    "- `pca__n_components`: Number of principal components\n",
    "- `clf__C`: Regularization strength for Logistic Regression"
   ]
  },
  {
   "cell_type": "code",
   "execution_count": 43,
   "id": "cbeeeb21",
   "metadata": {},
   "outputs": [
    {
     "name": "stdout",
     "output_type": "stream",
     "text": [
      "Hyperparameter Search Space:\n",
      "============================================================\n",
      "pca__n_components: [30 33 37]\n",
      "clf__C: [1.00000000e-04 4.64158883e-04 2.15443469e-03 1.00000000e-02\n",
      " 4.64158883e-02 2.15443469e-01 1.00000000e+00 4.64158883e+00\n",
      " 2.15443469e+01 1.00000000e+02]\n",
      "\n",
      "Total combinations to test: 30\n",
      "Cross-validation folds: 5\n",
      "Total fits: 150\n"
     ]
    }
   ],
   "source": [
    "# Define hyperparameter search space\n",
    "param_grid = {\n",
    "    'pca__n_components': np.linspace(30, 37, 3).astype(int),\n",
    "    'clf__C': np.logspace(-4, 2, 10)\n",
    "}\n",
    "\n",
    "print(\"Hyperparameter Search Space:\")\n",
    "print(\"=\" * 60)\n",
    "for param, values in param_grid.items():\n",
    "    print(f\"{param}: {values}\")\n",
    "\n",
    "# Initialize GridSearchCV\n",
    "grid_search = GridSearchCV(\n",
    "    pipeline,\n",
    "    param_grid,\n",
    "    cv=5,\n",
    "    scoring='accuracy',\n",
    "    n_jobs=-1,\n",
    "    verbose=1\n",
    ")\n",
    "\n",
    "print(f\"\\nTotal combinations to test: {len(param_grid['pca__n_components']) * len(param_grid['clf__C'])}\")\n",
    "print(f\"Cross-validation folds: 5\")\n",
    "print(f\"Total fits: {len(param_grid['pca__n_components']) * len(param_grid['clf__C']) * 5}\")"
   ]
  },
  {
   "cell_type": "code",
   "execution_count": 44,
   "id": "632d2163",
   "metadata": {},
   "outputs": [
    {
     "name": "stdout",
     "output_type": "stream",
     "text": [
      "\n",
      "Running GridSearchCV...\n",
      "This may take a few moments...\n",
      "\n",
      "Fitting 5 folds for each of 30 candidates, totalling 150 fits\n"
     ]
    },
    {
     "name": "stderr",
     "output_type": "stream",
     "text": [
      "/opt/miniconda3/lib/python3.13/multiprocessing/queues.py:120: UserWarning: pkg_resources is deprecated as an API. See https://setuptools.pypa.io/en/latest/pkg_resources.html. The pkg_resources package is slated for removal as early as 2025-11-30. Refrain from using this package or pin to Setuptools<81.\n",
      "  return _ForkingPickler.loads(res)\n",
      "/opt/miniconda3/lib/python3.13/multiprocessing/queues.py:120: UserWarning: pkg_resources is deprecated as an API. See https://setuptools.pypa.io/en/latest/pkg_resources.html. The pkg_resources package is slated for removal as early as 2025-11-30. Refrain from using this package or pin to Setuptools<81.\n",
      "  return _ForkingPickler.loads(res)\n",
      "/opt/miniconda3/lib/python3.13/multiprocessing/queues.py:120: UserWarning: pkg_resources is deprecated as an API. See https://setuptools.pypa.io/en/latest/pkg_resources.html. The pkg_resources package is slated for removal as early as 2025-11-30. Refrain from using this package or pin to Setuptools<81.\n",
      "  return _ForkingPickler.loads(res)\n",
      "/opt/miniconda3/lib/python3.13/multiprocessing/queues.py:120: UserWarning: pkg_resources is deprecated as an API. See https://setuptools.pypa.io/en/latest/pkg_resources.html. The pkg_resources package is slated for removal as early as 2025-11-30. Refrain from using this package or pin to Setuptools<81.\n",
      "  return _ForkingPickler.loads(res)\n",
      "/opt/miniconda3/lib/python3.13/site-packages/sklearn/preprocessing/_encoders.py:246: UserWarning: Found unknown categories in columns [18] during transform. These unknown categories will be encoded as all zeros\n",
      "  warnings.warn(\n",
      "/opt/miniconda3/lib/python3.13/site-packages/sklearn/preprocessing/_encoders.py:246: UserWarning: Found unknown categories in columns [18] during transform. These unknown categories will be encoded as all zeros\n",
      "  warnings.warn(\n",
      "/opt/miniconda3/lib/python3.13/site-packages/sklearn/preprocessing/_encoders.py:246: UserWarning: Found unknown categories in columns [18] during transform. These unknown categories will be encoded as all zeros\n",
      "  warnings.warn(\n",
      "/opt/miniconda3/lib/python3.13/site-packages/sklearn/preprocessing/_encoders.py:246: UserWarning: Found unknown categories in columns [18] during transform. These unknown categories will be encoded as all zeros\n",
      "  warnings.warn(\n",
      "/opt/miniconda3/lib/python3.13/site-packages/sklearn/preprocessing/_encoders.py:246: UserWarning: Found unknown categories in columns [18] during transform. These unknown categories will be encoded as all zeros\n",
      "  warnings.warn(\n",
      "/opt/miniconda3/lib/python3.13/site-packages/sklearn/preprocessing/_encoders.py:246: UserWarning: Found unknown categories in columns [18] during transform. These unknown categories will be encoded as all zeros\n",
      "  warnings.warn(\n",
      "/opt/miniconda3/lib/python3.13/site-packages/sklearn/preprocessing/_encoders.py:246: UserWarning: Found unknown categories in columns [18] during transform. These unknown categories will be encoded as all zeros\n",
      "  warnings.warn(\n",
      "/opt/miniconda3/lib/python3.13/site-packages/sklearn/preprocessing/_encoders.py:246: UserWarning: Found unknown categories in columns [18] during transform. These unknown categories will be encoded as all zeros\n",
      "  warnings.warn(\n",
      "/opt/miniconda3/lib/python3.13/site-packages/sklearn/preprocessing/_encoders.py:246: UserWarning: Found unknown categories in columns [18] during transform. These unknown categories will be encoded as all zeros\n",
      "  warnings.warn(\n",
      "/opt/miniconda3/lib/python3.13/site-packages/sklearn/preprocessing/_encoders.py:246: UserWarning: Found unknown categories in columns [18] during transform. These unknown categories will be encoded as all zeros\n",
      "  warnings.warn(\n",
      "/opt/miniconda3/lib/python3.13/site-packages/sklearn/preprocessing/_encoders.py:246: UserWarning: Found unknown categories in columns [18] during transform. These unknown categories will be encoded as all zeros\n",
      "  warnings.warn(\n",
      "/opt/miniconda3/lib/python3.13/site-packages/sklearn/preprocessing/_encoders.py:246: UserWarning: Found unknown categories in columns [18] during transform. These unknown categories will be encoded as all zeros\n",
      "  warnings.warn(\n",
      "/opt/miniconda3/lib/python3.13/site-packages/sklearn/preprocessing/_encoders.py:246: UserWarning: Found unknown categories in columns [18] during transform. These unknown categories will be encoded as all zeros\n",
      "  warnings.warn(\n",
      "/opt/miniconda3/lib/python3.13/site-packages/sklearn/preprocessing/_encoders.py:246: UserWarning: Found unknown categories in columns [18] during transform. These unknown categories will be encoded as all zeros\n",
      "  warnings.warn(\n",
      "/opt/miniconda3/lib/python3.13/site-packages/sklearn/preprocessing/_encoders.py:246: UserWarning: Found unknown categories in columns [18] during transform. These unknown categories will be encoded as all zeros\n",
      "  warnings.warn(\n",
      "/opt/miniconda3/lib/python3.13/site-packages/sklearn/preprocessing/_encoders.py:246: UserWarning: Found unknown categories in columns [18] during transform. These unknown categories will be encoded as all zeros\n",
      "  warnings.warn(\n",
      "/opt/miniconda3/lib/python3.13/site-packages/sklearn/preprocessing/_encoders.py:246: UserWarning: Found unknown categories in columns [18] during transform. These unknown categories will be encoded as all zeros\n",
      "  warnings.warn(\n",
      "/opt/miniconda3/lib/python3.13/site-packages/sklearn/preprocessing/_encoders.py:246: UserWarning: Found unknown categories in columns [18] during transform. These unknown categories will be encoded as all zeros\n",
      "  warnings.warn(\n",
      "/opt/miniconda3/lib/python3.13/site-packages/sklearn/preprocessing/_encoders.py:246: UserWarning: Found unknown categories in columns [18] during transform. These unknown categories will be encoded as all zeros\n",
      "  warnings.warn(\n",
      "/opt/miniconda3/lib/python3.13/site-packages/sklearn/preprocessing/_encoders.py:246: UserWarning: Found unknown categories in columns [18] during transform. These unknown categories will be encoded as all zeros\n",
      "  warnings.warn(\n",
      "/opt/miniconda3/lib/python3.13/site-packages/sklearn/preprocessing/_encoders.py:246: UserWarning: Found unknown categories in columns [18] during transform. These unknown categories will be encoded as all zeros\n",
      "  warnings.warn(\n",
      "/opt/miniconda3/lib/python3.13/site-packages/sklearn/preprocessing/_encoders.py:246: UserWarning: Found unknown categories in columns [18] during transform. These unknown categories will be encoded as all zeros\n",
      "  warnings.warn(\n",
      "/opt/miniconda3/lib/python3.13/site-packages/sklearn/preprocessing/_encoders.py:246: UserWarning: Found unknown categories in columns [18] during transform. These unknown categories will be encoded as all zeros\n",
      "  warnings.warn(\n",
      "/opt/miniconda3/lib/python3.13/site-packages/sklearn/preprocessing/_encoders.py:246: UserWarning: Found unknown categories in columns [18] during transform. These unknown categories will be encoded as all zeros\n",
      "  warnings.warn(\n",
      "/opt/miniconda3/lib/python3.13/site-packages/sklearn/preprocessing/_encoders.py:246: UserWarning: Found unknown categories in columns [18] during transform. These unknown categories will be encoded as all zeros\n",
      "  warnings.warn(\n",
      "/opt/miniconda3/lib/python3.13/site-packages/sklearn/preprocessing/_encoders.py:246: UserWarning: Found unknown categories in columns [18] during transform. These unknown categories will be encoded as all zeros\n",
      "  warnings.warn(\n",
      "/opt/miniconda3/lib/python3.13/site-packages/sklearn/preprocessing/_encoders.py:246: UserWarning: Found unknown categories in columns [18] during transform. These unknown categories will be encoded as all zeros\n",
      "  warnings.warn(\n",
      "/opt/miniconda3/lib/python3.13/site-packages/sklearn/preprocessing/_encoders.py:246: UserWarning: Found unknown categories in columns [18] during transform. These unknown categories will be encoded as all zeros\n",
      "  warnings.warn(\n",
      "/opt/miniconda3/lib/python3.13/site-packages/sklearn/preprocessing/_encoders.py:246: UserWarning: Found unknown categories in columns [18] during transform. These unknown categories will be encoded as all zeros\n",
      "  warnings.warn(\n"
     ]
    },
    {
     "name": "stdout",
     "output_type": "stream",
     "text": [
      "\n",
      "✓ Grid search complete!\n"
     ]
    },
    {
     "name": "stderr",
     "output_type": "stream",
     "text": [
      "/opt/miniconda3/lib/python3.13/site-packages/sklearn/preprocessing/_encoders.py:246: UserWarning: Found unknown categories in columns [18] during transform. These unknown categories will be encoded as all zeros\n",
      "  warnings.warn(\n"
     ]
    }
   ],
   "source": [
    "# Run grid search\n",
    "print(\"\\nRunning GridSearchCV...\")\n",
    "print(\"This may take a few moments...\\n\")\n",
    "grid_search.fit(X_train, y_train)\n",
    "print(\"\\n✓ Grid search complete!\")"
   ]
  },
  {
   "cell_type": "markdown",
   "id": "391910f8",
   "metadata": {},
   "source": [
    "### 10.1 Best Model Results"
   ]
  },
  {
   "cell_type": "code",
   "execution_count": 45,
   "id": "73f5ffa3",
   "metadata": {},
   "outputs": [
    {
     "name": "stdout",
     "output_type": "stream",
     "text": [
      "============================================================\n",
      "BEST MODEL (after GridSearchCV)\n",
      "============================================================\n",
      "\n",
      "Best Parameters:\n",
      "  clf__C: 4.641588833612772\n",
      "  pca__n_components: 37\n",
      "\n",
      "Best Cross-Validation Score: 0.7995\n",
      "\n",
      "Classifier: LogisticRegression\n",
      "PCA Components: 37\n",
      "============================================================\n"
     ]
    }
   ],
   "source": [
    "# Extract best model\n",
    "best_model = grid_search.best_estimator_\n",
    "best_params = grid_search.best_params_\n",
    "best_cv_score = grid_search.best_score_\n",
    "\n",
    "print(f\"{'='*60}\")\n",
    "print(\"BEST MODEL (after GridSearchCV)\")\n",
    "print(f\"{'='*60}\")\n",
    "print(f\"\\nBest Parameters:\")\n",
    "for param, value in best_params.items():\n",
    "    print(f\"  {param}: {value}\")\n",
    "\n",
    "print(f\"\\nBest Cross-Validation Score: {best_cv_score:.4f}\")\n",
    "print(f\"\\nClassifier: {type(best_model.named_steps['clf']).__name__}\")\n",
    "print(f\"PCA Components: {best_model.named_steps['pca'].n_components}\")\n",
    "print(f\"{'='*60}\")"
   ]
  },
  {
   "cell_type": "markdown",
   "id": "a43a5eff",
   "metadata": {},
   "source": [
    "### 10.2 Evaluate Best Model on Test Set"
   ]
  },
  {
   "cell_type": "code",
   "execution_count": 46,
   "id": "297f86ef",
   "metadata": {},
   "outputs": [
    {
     "name": "stdout",
     "output_type": "stream",
     "text": [
      "============================================================\n",
      "BEST MODEL PERFORMANCE\n",
      "============================================================\n",
      "Training Accuracy: 0.9195\n",
      "Test Accuracy:     0.6316\n",
      "\n",
      "Improvement over baseline: 5.26%\n",
      "============================================================\n"
     ]
    }
   ],
   "source": [
    "# Test set performance\n",
    "best_train_score = best_model.score(X_train, y_train)\n",
    "best_test_score = best_model.score(X_test, y_test)\n",
    "\n",
    "print(f\"{'='*60}\")\n",
    "print(\"BEST MODEL PERFORMANCE\")\n",
    "print(f\"{'='*60}\")\n",
    "print(f\"Training Accuracy: {best_train_score:.4f}\")\n",
    "print(f\"Test Accuracy:     {best_test_score:.4f}\")\n",
    "print(f\"\\nImprovement over baseline: {(best_test_score - test_score)*100:.2f}%\")\n",
    "print(f\"{'='*60}\")"
   ]
  },
  {
   "cell_type": "code",
   "execution_count": 47,
   "id": "299666c0",
   "metadata": {},
   "outputs": [
    {
     "name": "stdout",
     "output_type": "stream",
     "text": [
      "Classification Report (Best Model):\n",
      "============================================================\n",
      "              precision    recall  f1-score   support\n",
      "\n",
      "         0.0       0.65      0.71      0.68        21\n",
      "         1.0       0.60      0.53      0.56        17\n",
      "\n",
      "    accuracy                           0.63        38\n",
      "   macro avg       0.63      0.62      0.62        38\n",
      "weighted avg       0.63      0.63      0.63        38\n",
      "\n"
     ]
    },
    {
     "data": {
      "image/png": "[encoded data removed]",
      "text/plain": [
       "<Figure size 800x600 with 1 Axes>"
      ]
     },
     "metadata": {},
     "output_type": "display_data"
    }
   ],
   "source": [
    "# Detailed evaluation\n",
    "y_pred_best = best_model.predict(X_test)\n",
    "y_pred_proba_best = best_model.predict_proba(X_test)[:, 1]\n",
    "\n",
    "print(\"Classification Report (Best Model):\")\n",
    "print(\"=\" * 60)\n",
    "print(classification_report(y_test, y_pred_best))\n",
    "\n",
    "# Confusion matrix\n",
    "cm_best = confusion_matrix(y_test, y_pred_best)\n",
    "plt.figure(figsize=(8, 6))\n",
    "sns.heatmap(cm_best, annot=True, fmt='d', cmap='Greens', cbar=False)\n",
    "plt.title('Confusion Matrix (Best Model)')\n",
    "plt.ylabel('True Label')\n",
    "plt.xlabel('Predicted Label')\n",
    "plt.tight_layout()\n",
    "plt.show()"
   ]
  },
  {
   "cell_type": "markdown",
   "id": "641280f3",
   "metadata": {},
   "source": [
    "### 10.3 ROC Curve"
   ]
  },
  {
   "cell_type": "code",
   "execution_count": 48,
   "id": "4b2fada0",
   "metadata": {},
   "outputs": [
    {
     "data": {
      "image/png": "[encoded data removed]",
      "text/plain": [
       "<Figure size 1000x700 with 1 Axes>"
      ]
     },
     "metadata": {},
     "output_type": "display_data"
    },
    {
     "name": "stdout",
     "output_type": "stream",
     "text": [
      "ROC AUC Score: 0.6947\n"
     ]
    }
   ],
   "source": [
    "# ROC curve\n",
    "fpr, tpr, thresholds = roc_curve(y_test, y_pred_proba_best)\n",
    "roc_auc = roc_auc_score(y_test, y_pred_proba_best)\n",
    "\n",
    "plt.figure(figsize=(10, 7))\n",
    "plt.plot(fpr, tpr, color='darkorange', lw=2, label=f'ROC curve (AUC = {roc_auc:.3f})')\n",
    "plt.plot([0, 1], [0, 1], color='navy', lw=2, linestyle='--', label='Random Classifier')\n",
    "plt.xlim([0.0, 1.0])\n",
    "plt.ylim([0.0, 1.05])\n",
    "plt.xlabel('False Positive Rate')\n",
    "plt.ylabel('True Positive Rate')\n",
    "plt.title('Receiver Operating Characteristic (ROC) Curve')\n",
    "plt.legend(loc=\"lower right\")\n",
    "plt.grid(alpha=0.3)\n",
    "plt.tight_layout()\n",
    "plt.show()\n",
    "\n",
    "print(f\"ROC AUC Score: {roc_auc:.4f}\")"
   ]
  },
  {
   "cell_type": "markdown",
   "id": "6d0c24c9",
   "metadata": {},
   "source": [
    "---\n",
    "## 11. Model Interpretation\n",
    "\n",
    "### 11.1 Explained Variance by PCA"
   ]
  },
  {
   "cell_type": "code",
   "execution_count": 49,
   "id": "fc02d712",
   "metadata": {},
   "outputs": [
    {
     "name": "stdout",
     "output_type": "stream",
     "text": [
      "Number of components: 37\n",
      "Total variance explained: 0.9938\n"
     ]
    },
    {
     "data": {
      "image/png": "[encoded data removed]",
      "text/plain": [
       "<Figure size 1600x500 with 2 Axes>"
      ]
     },
     "metadata": {},
     "output_type": "display_data"
    }
   ],
   "source": [
    "# PCA explained variance\n",
    "pca_model = best_model.named_steps['pca']\n",
    "explained_variance = pca_model.explained_variance_ratio_\n",
    "cumulative_variance = np.cumsum(explained_variance)\n",
    "\n",
    "print(f\"Number of components: {len(explained_variance)}\")\n",
    "print(f\"Total variance explained: {cumulative_variance[-1]:.4f}\")\n",
    "\n",
    "# Plot\n",
    "fig, axes = plt.subplots(1, 2, figsize=(16, 5))\n",
    "\n",
    "# Individual variance\n",
    "axes[0].bar(range(1, len(explained_variance) + 1), explained_variance, alpha=0.7, color='skyblue')\n",
    "axes[0].set_xlabel('Principal Component')\n",
    "axes[0].set_ylabel('Explained Variance Ratio')\n",
    "axes[0].set_title('Explained Variance by Component')\n",
    "axes[0].grid(alpha=0.3)\n",
    "\n",
    "# Cumulative variance\n",
    "axes[1].plot(range(1, len(cumulative_variance) + 1), cumulative_variance, marker='o', color='coral')\n",
    "axes[1].axhline(y=0.95, color='green', linestyle='--', label='95% Variance')\n",
    "axes[1].set_xlabel('Number of Components')\n",
    "axes[1].set_ylabel('Cumulative Explained Variance')\n",
    "axes[1].set_title('Cumulative Explained Variance')\n",
    "axes[1].legend()\n",
    "axes[1].grid(alpha=0.3)\n",
    "\n",
    "plt.tight_layout()\n",
    "plt.show()"
   ]
  },
  {
   "cell_type": "markdown",
   "id": "ec71c1bd",
   "metadata": {},
   "source": [
    "### 11.2 Feature Importance (Logistic Regression Coefficients)\n",
    "\n",
    "Note: Coefficients are on PCA-transformed features, not original features."
   ]
  },
  {
   "cell_type": "code",
   "execution_count": 50,
   "id": "798c5873",
   "metadata": {},
   "outputs": [
    {
     "name": "stdout",
     "output_type": "stream",
     "text": [
      "Top 10 Most Important Principal Components:\n",
      "============================================================\n",
      "Feature  Coefficient  Abs_Coefficient\n",
      "   PC27     3.525998         3.525998\n",
      "   PC25     2.464217         2.464217\n",
      "   PC35    -2.245599         2.245599\n",
      "   PC24     2.203229         2.203229\n",
      "   PC18     1.997238         1.997238\n",
      "   PC34     1.971134         1.971134\n",
      "   PC32    -1.707430         1.707430\n",
      "    PC2     1.443303         1.443303\n",
      "   PC26     1.377585         1.377585\n",
      "   PC37     1.281388         1.281388\n"
     ]
    },
    {
     "data": {
      "image/png": "[encoded data removed]",
      "text/plain": [
       "<Figure size 1200x600 with 1 Axes>"
      ]
     },
     "metadata": {},
     "output_type": "display_data"
    }
   ],
   "source": [
    "# Get coefficients\n",
    "clf_model = best_model.named_steps['clf']\n",
    "coefficients = clf_model.coef_[0]\n",
    "\n",
    "# Create feature names\n",
    "feature_names = [f'PC{i+1}' for i in range(len(coefficients))]\n",
    "coef_df = pd.DataFrame({\n",
    "    'Feature': feature_names,\n",
    "    'Coefficient': coefficients,\n",
    "    'Abs_Coefficient': np.abs(coefficients)\n",
    "}).sort_values('Abs_Coefficient', ascending=False)\n",
    "\n",
    "print(\"Top 10 Most Important Principal Components:\")\n",
    "print(\"=\" * 60)\n",
    "print(coef_df.head(10).to_string(index=False))\n",
    "\n",
    "# Plot\n",
    "plt.figure(figsize=(12, 6))\n",
    "plt.barh(coef_df['Feature'][:15], coef_df['Coefficient'][:15])\n",
    "plt.xlabel('Coefficient Value')\n",
    "plt.ylabel('Principal Component')\n",
    "plt.title('Top 15 Logistic Regression Coefficients (PCA Space)')\n",
    "plt.axvline(x=0, color='red', linestyle='--', alpha=0.5)\n",
    "plt.gca().invert_yaxis()\n",
    "plt.tight_layout()\n",
    "plt.show()"
   ]
  },
  {
   "cell_type": "markdown",
   "id": "d99561c8",
   "metadata": {},
   "source": [
    "---\n",
    "## 12. Model Comparison Summary"
   ]
  },
  {
   "cell_type": "code",
   "execution_count": 51,
   "id": "a26910b4",
   "metadata": {},
   "outputs": [
    {
     "name": "stdout",
     "output_type": "stream",
     "text": [
      "\n",
      "Model Comparison:\n",
      "================================================================================\n",
      "              Model  Train Accuracy  Test Accuracy  PCA Components  C (Regularization)\n",
      " Baseline (Default)        0.892617       0.578947              53            1.000000\n",
      "Best (GridSearchCV)        0.919463       0.631579              37            4.641589\n",
      "================================================================================\n"
     ]
    },
    {
     "data": {
      "image/png": "[encoded data removed]",
      "text/plain": [
       "<Figure size 1000x600 with 1 Axes>"
      ]
     },
     "metadata": {},
     "output_type": "display_data"
    }
   ],
   "source": [
    "# Create comparison table\n",
    "comparison = pd.DataFrame({\n",
    "    'Model': ['Baseline (Default)', 'Best (GridSearchCV)'],\n",
    "    'Train Accuracy': [train_score, best_train_score],\n",
    "    'Test Accuracy': [test_score, best_test_score],\n",
    "    'PCA Components': [pipeline.named_steps['pca'].n_components_, \n",
    "                       best_model.named_steps['pca'].n_components],\n",
    "    'C (Regularization)': [pipeline.named_steps['clf'].C, \n",
    "                          best_model.named_steps['clf'].C]\n",
    "})\n",
    "\n",
    "print(\"\\nModel Comparison:\")\n",
    "print(\"=\" * 80)\n",
    "print(comparison.to_string(index=False))\n",
    "print(\"=\" * 80)\n",
    "\n",
    "# Visualize comparison\n",
    "fig, ax = plt.subplots(figsize=(10, 6))\n",
    "x = np.arange(len(comparison))\n",
    "width = 0.35\n",
    "\n",
    "ax.bar(x - width/2, comparison['Train Accuracy'], width, label='Train Accuracy', alpha=0.8)\n",
    "ax.bar(x + width/2, comparison['Test Accuracy'], width, label='Test Accuracy', alpha=0.8)\n",
    "\n",
    "ax.set_ylabel('Accuracy')\n",
    "ax.set_title('Model Performance Comparison')\n",
    "ax.set_xticks(x)\n",
    "ax.set_xticklabels(comparison['Model'])\n",
    "ax.legend()\n",
    "ax.set_ylim([0, 1])\n",
    "ax.grid(axis='y', alpha=0.3)\n",
    "\n",
    "plt.tight_layout()\n",
    "plt.show()"
   ]
  },
  {
   "cell_type": "markdown",
   "id": "edbe23df",
   "metadata": {},
   "source": [
    "---\n",
    "## 13. Save Best Model (Optional)\n",
    "\n",
    "Persist the best model for future use."
   ]
  },
  {
   "cell_type": "code",
   "execution_count": 52,
   "id": "317d92a9",
   "metadata": {},
   "outputs": [
    {
     "name": "stdout",
     "output_type": "stream",
     "text": [
      "✓ Model saved to: models/best_bone_marrow_model.joblib\n"
     ]
    },
    {
     "ename": "TypeError",
     "evalue": "Object of type int64 is not JSON serializable",
     "output_type": "error",
     "traceback": [
      "\u001b[31m---------------------------------------------------------------------------\u001b[39m",
      "\u001b[31mTypeError\u001b[39m                                 Traceback (most recent call last)",
      "\u001b[36mCell\u001b[39m\u001b[36m \u001b[39m\u001b[32mIn[52]\u001b[39m\u001b[32m, line 28\u001b[39m\n\u001b[32m     26\u001b[39m metadata_path = models_dir / \u001b[33m'\u001b[39m\u001b[33mmodel_metadata.json\u001b[39m\u001b[33m'\u001b[39m\n\u001b[32m     27\u001b[39m \u001b[38;5;28;01mwith\u001b[39;00m \u001b[38;5;28mopen\u001b[39m(metadata_path, \u001b[33m'\u001b[39m\u001b[33mw\u001b[39m\u001b[33m'\u001b[39m) \u001b[38;5;28;01mas\u001b[39;00m f:\n\u001b[32m---> \u001b[39m\u001b[32m28\u001b[39m     \u001b[43mjson\u001b[49m\u001b[43m.\u001b[49m\u001b[43mdump\u001b[49m\u001b[43m(\u001b[49m\u001b[43mmetadata\u001b[49m\u001b[43m,\u001b[49m\u001b[43m \u001b[49m\u001b[43mf\u001b[49m\u001b[43m,\u001b[49m\u001b[43m \u001b[49m\u001b[43mindent\u001b[49m\u001b[43m=\u001b[49m\u001b[32;43m2\u001b[39;49m\u001b[43m)\u001b[49m\n\u001b[32m     29\u001b[39m \u001b[38;5;28mprint\u001b[39m(\u001b[33mf\u001b[39m\u001b[33m\"\u001b[39m\u001b[33m✓ Metadata saved to: \u001b[39m\u001b[38;5;132;01m{\u001b[39;00mmetadata_path\u001b[38;5;132;01m}\u001b[39;00m\u001b[33m\"\u001b[39m)\n",
      "\u001b[36mFile \u001b[39m\u001b[32m/opt/miniconda3/lib/python3.13/json/__init__.py:179\u001b[39m, in \u001b[36mdump\u001b[39m\u001b[34m(obj, fp, skipkeys, ensure_ascii, check_circular, allow_nan, cls, indent, separators, default, sort_keys, **kw)\u001b[39m\n\u001b[32m    173\u001b[39m     iterable = \u001b[38;5;28mcls\u001b[39m(skipkeys=skipkeys, ensure_ascii=ensure_ascii,\n\u001b[32m    174\u001b[39m         check_circular=check_circular, allow_nan=allow_nan, indent=indent,\n\u001b[32m    175\u001b[39m         separators=separators,\n\u001b[32m    176\u001b[39m         default=default, sort_keys=sort_keys, **kw).iterencode(obj)\n\u001b[32m    177\u001b[39m \u001b[38;5;66;03m# could accelerate with writelines in some versions of Python, at\u001b[39;00m\n\u001b[32m    178\u001b[39m \u001b[38;5;66;03m# a debuggability cost\u001b[39;00m\n\u001b[32m--> \u001b[39m\u001b[32m179\u001b[39m \u001b[43m\u001b[49m\u001b[38;5;28;43;01mfor\u001b[39;49;00m\u001b[43m \u001b[49m\u001b[43mchunk\u001b[49m\u001b[43m \u001b[49m\u001b[38;5;129;43;01min\u001b[39;49;00m\u001b[43m \u001b[49m\u001b[43miterable\u001b[49m\u001b[43m:\u001b[49m\n\u001b[32m    180\u001b[39m \u001b[43m    \u001b[49m\u001b[43mfp\u001b[49m\u001b[43m.\u001b[49m\u001b[43mwrite\u001b[49m\u001b[43m(\u001b[49m\u001b[43mchunk\u001b[49m\u001b[43m)\u001b[49m\n",
      "\u001b[36mFile \u001b[39m\u001b[32m/opt/miniconda3/lib/python3.13/json/encoder.py:433\u001b[39m, in \u001b[36m_make_iterencode.<locals>._iterencode\u001b[39m\u001b[34m(o, _current_indent_level)\u001b[39m\n\u001b[32m    431\u001b[39m     \u001b[38;5;28;01myield from\u001b[39;00m _iterencode_list(o, _current_indent_level)\n\u001b[32m    432\u001b[39m \u001b[38;5;28;01melif\u001b[39;00m \u001b[38;5;28misinstance\u001b[39m(o, \u001b[38;5;28mdict\u001b[39m):\n\u001b[32m--> \u001b[39m\u001b[32m433\u001b[39m     \u001b[38;5;28;01myield from\u001b[39;00m _iterencode_dict(o, _current_indent_level)\n\u001b[32m    434\u001b[39m \u001b[38;5;28;01melse\u001b[39;00m:\n\u001b[32m    435\u001b[39m     \u001b[38;5;28;01mif\u001b[39;00m markers \u001b[38;5;129;01mis\u001b[39;00m \u001b[38;5;129;01mnot\u001b[39;00m \u001b[38;5;28;01mNone\u001b[39;00m:\n",
      "\u001b[36mFile \u001b[39m\u001b[32m/opt/miniconda3/lib/python3.13/json/encoder.py:407\u001b[39m, in \u001b[36m_make_iterencode.<locals>._iterencode_dict\u001b[39m\u001b[34m(dct, _current_indent_level)\u001b[39m\n\u001b[32m    405\u001b[39m         \u001b[38;5;28;01melse\u001b[39;00m:\n\u001b[32m    406\u001b[39m             chunks = _iterencode(value, _current_indent_level)\n\u001b[32m--> \u001b[39m\u001b[32m407\u001b[39m         \u001b[38;5;28;01myield from\u001b[39;00m chunks\n\u001b[32m    408\u001b[39m \u001b[38;5;28;01mif\u001b[39;00m \u001b[38;5;129;01mnot\u001b[39;00m first \u001b[38;5;129;01mand\u001b[39;00m newline_indent \u001b[38;5;129;01mis\u001b[39;00m \u001b[38;5;129;01mnot\u001b[39;00m \u001b[38;5;28;01mNone\u001b[39;00m:\n\u001b[32m    409\u001b[39m     _current_indent_level -= \u001b[32m1\u001b[39m\n",
      "\u001b[36mFile \u001b[39m\u001b[32m/opt/miniconda3/lib/python3.13/json/encoder.py:407\u001b[39m, in \u001b[36m_make_iterencode.<locals>._iterencode_dict\u001b[39m\u001b[34m(dct, _current_indent_level)\u001b[39m\n\u001b[32m    405\u001b[39m         \u001b[38;5;28;01melse\u001b[39;00m:\n\u001b[32m    406\u001b[39m             chunks = _iterencode(value, _current_indent_level)\n\u001b[32m--> \u001b[39m\u001b[32m407\u001b[39m         \u001b[38;5;28;01myield from\u001b[39;00m chunks\n\u001b[32m    408\u001b[39m \u001b[38;5;28;01mif\u001b[39;00m \u001b[38;5;129;01mnot\u001b[39;00m first \u001b[38;5;129;01mand\u001b[39;00m newline_indent \u001b[38;5;129;01mis\u001b[39;00m \u001b[38;5;129;01mnot\u001b[39;00m \u001b[38;5;28;01mNone\u001b[39;00m:\n\u001b[32m    409\u001b[39m     _current_indent_level -= \u001b[32m1\u001b[39m\n",
      "\u001b[36mFile \u001b[39m\u001b[32m/opt/miniconda3/lib/python3.13/json/encoder.py:440\u001b[39m, in \u001b[36m_make_iterencode.<locals>._iterencode\u001b[39m\u001b[34m(o, _current_indent_level)\u001b[39m\n\u001b[32m    438\u001b[39m         \u001b[38;5;28;01mraise\u001b[39;00m \u001b[38;5;167;01mValueError\u001b[39;00m(\u001b[33m\"\u001b[39m\u001b[33mCircular reference detected\u001b[39m\u001b[33m\"\u001b[39m)\n\u001b[32m    439\u001b[39m     markers[markerid] = o\n\u001b[32m--> \u001b[39m\u001b[32m440\u001b[39m o = \u001b[43m_default\u001b[49m\u001b[43m(\u001b[49m\u001b[43mo\u001b[49m\u001b[43m)\u001b[49m\n\u001b[32m    441\u001b[39m \u001b[38;5;28;01myield from\u001b[39;00m _iterencode(o, _current_indent_level)\n\u001b[32m    442\u001b[39m \u001b[38;5;28;01mif\u001b[39;00m markers \u001b[38;5;129;01mis\u001b[39;00m \u001b[38;5;129;01mnot\u001b[39;00m \u001b[38;5;28;01mNone\u001b[39;00m:\n",
      "\u001b[36mFile \u001b[39m\u001b[32m/opt/miniconda3/lib/python3.13/json/encoder.py:180\u001b[39m, in \u001b[36mJSONEncoder.default\u001b[39m\u001b[34m(self, o)\u001b[39m\n\u001b[32m    161\u001b[39m \u001b[38;5;28;01mdef\u001b[39;00m\u001b[38;5;250m \u001b[39m\u001b[34mdefault\u001b[39m(\u001b[38;5;28mself\u001b[39m, o):\n\u001b[32m    162\u001b[39m \u001b[38;5;250m    \u001b[39m\u001b[33;03m\"\"\"Implement this method in a subclass such that it returns\u001b[39;00m\n\u001b[32m    163\u001b[39m \u001b[33;03m    a serializable object for ``o``, or calls the base implementation\u001b[39;00m\n\u001b[32m    164\u001b[39m \u001b[33;03m    (to raise a ``TypeError``).\u001b[39;00m\n\u001b[32m   (...)\u001b[39m\u001b[32m    178\u001b[39m \n\u001b[32m    179\u001b[39m \u001b[33;03m    \"\"\"\u001b[39;00m\n\u001b[32m--> \u001b[39m\u001b[32m180\u001b[39m     \u001b[38;5;28;01mraise\u001b[39;00m \u001b[38;5;167;01mTypeError\u001b[39;00m(\u001b[33mf\u001b[39m\u001b[33m'\u001b[39m\u001b[33mObject of type \u001b[39m\u001b[38;5;132;01m{\u001b[39;00mo.\u001b[34m__class__\u001b[39m.\u001b[34m__name__\u001b[39m\u001b[38;5;132;01m}\u001b[39;00m\u001b[33m \u001b[39m\u001b[33m'\u001b[39m\n\u001b[32m    181\u001b[39m                     \u001b[33mf\u001b[39m\u001b[33m'\u001b[39m\u001b[33mis not JSON serializable\u001b[39m\u001b[33m'\u001b[39m)\n",
      "\u001b[31mTypeError\u001b[39m: Object of type int64 is not JSON serializable"
     ]
    }
   ],
   "source": [
    "import joblib\n",
    "from pathlib import Path\n",
    "\n",
    "# Create models directory\n",
    "models_dir = Path('models')\n",
    "models_dir.mkdir(exist_ok=True)\n",
    "\n",
    "# Save model\n",
    "model_path = models_dir / 'best_bone_marrow_model.joblib'\n",
    "joblib.dump(best_model, model_path)\n",
    "print(f\"✓ Model saved to: {model_path}\")\n",
    "\n",
    "# Save metadata\n",
    "metadata = {\n",
    "    'test_accuracy': best_test_score,\n",
    "    'train_accuracy': best_train_score,\n",
    "    'best_params': best_params,\n",
    "    'cv_score': best_cv_score,\n",
    "    'roc_auc': roc_auc,\n",
    "    'n_features': X.shape[1],\n",
    "    'n_samples_train': len(X_train),\n",
    "    'n_samples_test': len(X_test)\n",
    "}\n",
    "\n",
    "import json\n",
    "metadata_path = models_dir / 'model_metadata.json'\n",
    "with open(metadata_path, 'w') as f:\n",
    "    json.dump(metadata, f, indent=2)\n",
    "print(f\"✓ Metadata saved to: {metadata_path}\")"
   ]
  },
  {
   "cell_type": "markdown",
   "id": "4fe5ac08",
   "metadata": {},
   "source": [
    "---\n",
    "## 14. Conclusions and Next Steps\n",
    "\n",
    "### Summary\n",
    "\n",
    "- **Dataset**: Bone marrow transplantation with survival prediction\n",
    "- **Preprocessing**: Separate pipelines for categorical (mode imputation + OHE) and numerical (mean imputation + scaling)\n",
    "- **Dimensionality Reduction**: PCA to reduce feature space\n",
    "- **Model**: Logistic Regression with L2 regularization\n",
    "- **Tuning**: GridSearchCV with 5-fold cross-validation\n",
    "- **Best Test Accuracy**: {:.4f}\n",
    "- **ROC AUC**: {:.4f}\n",
    "\n",
    "### Next Steps\n",
    "\n",
    "1. **Try alternative models**: Random Forest, Gradient Boosting (XGBoost, LightGBM), SVM\n",
    "2. **Feature engineering**: Create interaction terms, polynomial features\n",
    "3. **Handle class imbalance**: SMOTE, class weights, threshold tuning\n",
    "4. **Expand hyperparameter search**: Include more PCA components, try different regularization types\n",
    "5. **Cross-validation strategies**: Stratified K-Fold, Repeated K-Fold\n",
    "6. **Feature selection**: SelectKBest, Recursive Feature Elimination (RFE)\n",
    "7. **Ensemble methods**: Stacking, voting classifiers\n",
    "8. **Deploy model**: Create inference API or batch prediction script\n",
    "9. **Monitor performance**: Track predictions on new data, retrain periodically\n",
    "\n",
    "### References\n",
    "\n",
    "- [UCI ML Repository - Bone Marrow Transplant Dataset](https://archive.ics.uci.edu/)\n",
    "- [Scikit-learn Documentation](https://scikit-learn.org/)\n",
    "- [Pipeline Best Practices](https://scikit-learn.org/stable/modules/compose.html)\n",
    "\n",
    "---\n",
    "**End of Notebook**"
   ]
  }
 ],
 "metadata": {
  "kernelspec": {
   "display_name": "base",
   "language": "python",
   "name": "python3"
  },
  "language_info": {
   "codemirror_mode": {
    "name": "ipython",
    "version": 3
   },
   "file_extension": ".py",
   "mimetype": "text/x-python",
   "name": "python",
   "nbconvert_exporter": "python",
   "pygments_lexer": "ipython3",
   "version": "3.13.7"
  }
 },
 "nbformat": 4,
 "nbformat_minor": 5
}
